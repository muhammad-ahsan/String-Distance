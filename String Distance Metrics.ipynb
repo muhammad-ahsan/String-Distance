{
 "cells": [
  {
   "cell_type": "markdown",
   "metadata": {},
   "source": [
    "# String Distances and Similarities"
   ]
  },
  {
   "cell_type": "code",
   "execution_count": 135,
   "metadata": {
    "collapsed": true
   },
   "outputs": [],
   "source": [
    "import pydoc"
   ]
  },
  {
   "cell_type": "markdown",
   "metadata": {},
   "source": [
    "### Levenshtein Distance Non Recursive"
   ]
  },
  {
   "cell_type": "code",
   "execution_count": 138,
   "metadata": {
    "collapsed": false
   },
   "outputs": [],
   "source": [
    "def non_recursive_levenshtein(s1,s2):\n",
    "    if s1==s2:\n",
    "        return 0\n",
    "    else:\n",
    "        m = [[0 for x in range(len(s2) + 1)] for x in range(len(s1)  + 1)]\n",
    "        for i in range(len(s2) + 1):\n",
    "            m[0][i] = i\n",
    "        for i in range(len(s1) + 1):\n",
    "            m[i][0] = i\n",
    "\n",
    "        for i in range(1,len(s1)+1):\n",
    "            for j in range(1,len(s2)+1):\n",
    "                if s1[i-1] == s2[j-1]:\n",
    "                    m[i][j] = m[i-1][j-1]\n",
    "                else:\n",
    "                    m[i][j] = 1 + min(m[i][j-1],m[i-1][j-1],m[i-1][j])\n",
    "\n",
    "        return m[len(s1)][len(s2)]"
   ]
  },
  {
   "cell_type": "code",
   "execution_count": 139,
   "metadata": {
    "collapsed": false
   },
   "outputs": [
    {
     "name": "stdout",
     "output_type": "stream",
     "text": [
      "Levenshtein Distance = 3\n"
     ]
    }
   ],
   "source": [
    "s1 = 'saturday'\n",
    "s2 = 'sunday'\n",
    "print('Levenshtein Distance =',non_recursive_levenshtein(s1,s2))"
   ]
  },
  {
   "cell_type": "markdown",
   "metadata": {},
   "source": [
    "### Levenshtein Distance Recursive"
   ]
  },
  {
   "cell_type": "code",
   "execution_count": 4,
   "metadata": {
    "collapsed": false
   },
   "outputs": [],
   "source": [
    "# Wikipedia Implementation\n",
    "\n",
    "def minimumEditDistance(s1,s2):\n",
    "    if len(s1) > len(s2):\n",
    "        s1,s2 = s2,s1\n",
    "    distances = range(len(s1) + 1)\n",
    "    for index2,char2 in enumerate(s2):\n",
    "        newDistances = [index2+1]\n",
    "        for index1,char1 in enumerate(s1):\n",
    "            if char1 == char2:\n",
    "                newDistances.append(distances[index1])\n",
    "            else:\n",
    "                newDistances.append(1 + min((distances[index1],import pydoc\n",
    "                                             distances[index1+1],\n",
    "                                             newDistances[-1])))\n",
    "        distances = newDistances\n",
    "    return distances[-1]"
   ]
  },
  {
   "cell_type": "code",
   "execution_count": 140,
   "metadata": {
    "collapsed": false
   },
   "outputs": [
    {
     "name": "stdout",
     "output_type": "stream",
     "text": [
      "3\n"
     ]
    }
   ],
   "source": [
    "print(minimumEditDistance(\"saturday\",\"sunday\"))"
   ]
  }
 ],
 "metadata": {
  "kernelspec": {
   "display_name": "Python 3",
   "language": "python",
   "name": "python3"
  },
  "language_info": {
   "codemirror_mode": {
    "name": "ipython",
    "version": 3
   },
   "file_extension": ".py",
   "mimetype": "text/x-python",
   "name": "python",
   "nbconvert_exporter": "python",
   "pygments_lexer": "ipython3",
   "version": "3.5.1"
  }
 },
 "nbformat": 4,
 "nbformat_minor": 0
}
